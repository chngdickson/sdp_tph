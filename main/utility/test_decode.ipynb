{
 "cells": [
  {
   "cell_type": "code",
   "execution_count": 8,
   "metadata": {},
   "outputs": [
    {
     "name": "stdout",
     "output_type": "stream",
     "text": [
      "      x  h\n",
      "0  Mean  2\n"
     ]
    }
   ],
   "source": [
    "import pandas as pd\n",
    "import numpy as np\n",
    "# Highlight Multiprocessing\n",
    "# Tree Height too high\n",
    "# Cloud \n",
    "df2 = pd.DataFrame([[\"Mean\", 2]], columns=[\"x\",\"h\"])\n",
    "print(df2)"
   ]
  },
  {
   "cell_type": "code",
   "execution_count": 2,
   "metadata": {},
   "outputs": [],
   "source": [
    "import base64\n",
    "import io\n",
    "import numpy as np\n",
    "import codecs\n",
    "import PIL.ExifTags\n",
    "import PIL.Image\n",
    "import PIL.ImageOps\n",
    "\n",
    "# Encoding to binary\n",
    "def img_arr_to_b64(img_arr):\n",
    "    \"\"\"Grayscale\"\"\"\n",
    "    img_pil = PIL.Image.fromarray(img_arr).convert('L')\n",
    "    f = io.BytesIO()\n",
    "    img_pil.save(f, format='PNG')\n",
    "    data = f.getvalue()\n",
    "    encData = codecs.encode(data, 'base64').decode()\n",
    "    encData = encData.replace('\\n', '')\n",
    "    return encData\n",
    "\n",
    "# Decoding\n",
    "def img_b64_to_arr(img_b64):\n",
    "    img_data = base64.b64decode(img_b64)\n",
    "    f = io.BytesIO()\n",
    "    f.write(img_data)\n",
    "    img_pil = PIL.Image.open(f)\n",
    "    img_pil.show()\n",
    "    img_arr = np.array(img_pil)\n",
    "    return img_arr"
   ]
  },
  {
   "cell_type": "markdown",
   "metadata": {},
   "source": [
    "### Read Csv File, decode and display image"
   ]
  },
  {
   "cell_type": "code",
   "execution_count": 12,
   "metadata": {},
   "outputs": [],
   "source": [
    "df = pd.read_csv(\"../../../test_pcd/test2/test2.csv\")\n",
    "#df2 = pd.read_csv(\"tootall/test2_Accurate/test2.csv\")"
   ]
  },
  {
   "cell_type": "code",
   "execution_count": 15,
   "metadata": {},
   "outputs": [],
   "source": [
    "number = 165\n",
    "encoded_obj = df.numpy_image[number]\n",
    "img = img_b64_to_arr(encoded_obj)\n",
    "PIL_img = PIL.Image.fromarray(img)\n",
    "PIL_img.save(f\"tree{number}.png\")"
   ]
  },
  {
   "cell_type": "code",
   "execution_count": 31,
   "metadata": {},
   "outputs": [
    {
     "data": {
      "text/plain": [
       "<matplotlib.image.AxesImage at 0x7f8e2383edf0>"
      ]
     },
     "execution_count": 31,
     "metadata": {},
     "output_type": "execute_result"
    },
    {
     "data": {
      "image/png": "[encoded data removed]",
      "text/plain": [
       "<Figure size 432x288 with 1 Axes>"
      ]
     },
     "metadata": {
      "needs_background": "light"
     },
     "output_type": "display_data"
    }
   ],
   "source": [
    "# Display an image\n",
    "# Method 1\n",
    "\n",
    "import matplotlib.pyplot as plt\n",
    "plt.imshow(img, cmap='gray')"
   ]
  },
  {
   "cell_type": "code",
   "execution_count": 30,
   "metadata": {},
   "outputs": [],
   "source": [
    "# Method 2  for ubuntu users\n",
    "PIL_img = PIL.Image.fromarray(img)\n",
    "PIL_img.save(\"tree186.png\")\n",
    "PIL_img.show()"
   ]
  },
  {
   "cell_type": "code",
   "execution_count": null,
   "metadata": {},
   "outputs": [],
   "source": []
  }
 ],
 "metadata": {
  "kernelspec": {
   "display_name": "Python 3.9.12 ('base')",
   "language": "python",
   "name": "python3"
  },
  "language_info": {
   "codemirror_mode": {
    "name": "ipython",
    "version": 3
   },
   "file_extension": ".py",
   "mimetype": "text/x-python",
   "name": "python",
   "nbconvert_exporter": "python",
   "pygments_lexer": "ipython3",
   "version": "3.9.12"
  },
  "vscode": {
   "interpreter": {
    "hash": "abb38a9efaacc96fecc33cd0f0bd41d648c1e46651cc2ee9f1d5de31b4d0228d"
   }
  }
 },
 "nbformat": 4,
 "nbformat_minor": 4
}
